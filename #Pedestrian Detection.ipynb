{
 "cells": [
  {
   "cell_type": "code",
   "execution_count": null,
   "id": "1e24ebd0",
   "metadata": {},
   "outputs": [],
   "source": [
    "#Pedestrian Detecttion\n",
    "import numpy as np\n",
    "import cv2\n",
    "body_classifier=cv2.CascadeClassifier(\"/Users/DELL/Downloads/fullbody.xml\")\n",
    "\n",
    "cap=cv2.VideoCapture(\"/Users/DELL/Downloads/walking.avi\")\n",
    "\n",
    "while cap.isOpened():\n",
    "    ret, frame=cap.read()\n",
    "    gray=cv2.cvtColor(frame,cv2.COLOR_BGR2GRAY)\n",
    "    bodies=body_classifier.detectMultiScale(gray,1.2,3)\n",
    "    for (x,y,w,h) in bodies:\n",
    "        cv2.rectangle(frame,(x,y),(x+w,y+h),(0,255,255),2)\n",
    "        cv2.imshow(\"Pedestrian\",frame)\n",
    "    if cv2.waitKey(1) == 13:\n",
    "        break\n",
    "        cv2.destroyAllWindows()\n",
    "cap.release()\n",
    "cap.destroyAllWindows()"
   ]
  }
 ],
 "metadata": {
  "kernelspec": {
   "display_name": "Python 3 (ipykernel)",
   "language": "python",
   "name": "python3"
  },
  "language_info": {
   "codemirror_mode": {
    "name": "ipython",
    "version": 3
   },
   "file_extension": ".py",
   "mimetype": "text/x-python",
   "name": "python",
   "nbconvert_exporter": "python",
   "pygments_lexer": "ipython3",
   "version": "3.9.7"
  }
 },
 "nbformat": 4,
 "nbformat_minor": 5
}
