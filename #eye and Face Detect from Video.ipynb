{
 "cells": [
  {
   "cell_type": "code",
   "execution_count": null,
   "id": "b68797f6",
   "metadata": {},
   "outputs": [],
   "source": [
    "#eye and Face Detect from Video\n",
    "import numpy as np\n",
    "import cv2\n",
    "\n",
    "face_classifier=cv2.CascadeClassifier(\"/Users/DELL/Downloads/facedetect.xml\")\n",
    "eye_classifier=cv2.CascadeClassifier(\"/Users/DELL/Downloads/eye_glass.xml\")\n",
    "\n",
    "im=cv2.imread(\"Desktop/kat.jpg\")\n",
    "\n",
    "gray=cv2.cvtColor(im,cv2.COLOR_BGR2GRAY)\n",
    "\n",
    "faces=face_classifier.detectMultiScale(gray,1.8,5)\n",
    "\n",
    "if faces is ():\n",
    "    print(\"No face found\")\n",
    "    \n",
    "for (x,y,w,h) in faces:\n",
    "    cv2.rectangle(im,(x,y),(x+w,y+h),(127,0,255),2)\n",
    "    cv2.imshow(\"Face Detect\",im)\n",
    "    cv2.waitKey(0)\n",
    "    roi_gray=gray[y:y+h,x:x+w]\n",
    "    roi_color=im[y:y+h,x:x+w]\n",
    "    eyes=eye_classifier.detectMultiScale(roi_gray)\n",
    "    for (ex,ey,ew,eh) in eyes:\n",
    "        cv2.rectangle(roi_color,(ex,ew),(ex+ew,ey+eh),(255,255,0),2)\n",
    "        cv2.imshow('img',im)\n",
    "    if cv2.waitKey(1)==ord(\"q\"):#invideo waiting 1 mean 1x 1.5X speed\n",
    "        break \n",
    "cv2.destroyAllWindows()"
   ]
  }
 ],
 "metadata": {
  "kernelspec": {
   "display_name": "Python 3 (ipykernel)",
   "language": "python",
   "name": "python3"
  },
  "language_info": {
   "codemirror_mode": {
    "name": "ipython",
    "version": 3
   },
   "file_extension": ".py",
   "mimetype": "text/x-python",
   "name": "python",
   "nbconvert_exporter": "python",
   "pygments_lexer": "ipython3",
   "version": "3.9.7"
  }
 },
 "nbformat": 4,
 "nbformat_minor": 5
}
