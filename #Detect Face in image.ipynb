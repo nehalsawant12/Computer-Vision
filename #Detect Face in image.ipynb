{
 "cells": [
  {
   "cell_type": "code",
   "execution_count": null,
   "id": "314a6414",
   "metadata": {},
   "outputs": [],
   "source": [
    "#Detect Face in image\n",
    "import numpy as np\n",
    "import cv2\n",
    "face_classifier=cv2.CascadeClassifier(\"/Users/DELL/Downloads/facedetect.xml\")\n",
    "im=cv2.resize(im,(100,100))\n",
    "im=cv2.imread(\"Desktop/kat.jpg\")\n",
    "gray=cv2.cvtColor(im,cv2.COLOR_BGR2GRAY)\n",
    "faces=face_classifier.detectMultiScale(gray,1.3,5)\n",
    "if faces is ():\n",
    "    print(\"No face found\")\n",
    "for (x,y,w,h) in faces:\n",
    "    cv2.rectangle(im,(x,y),(x+w,y+h),(127,0,255),2)\n",
    "    cv2.imshow(\"Face Detect\",im)\n",
    "    cv2.waitKey(0)\n",
    "cv2.destroyAllWindows()"
   ]
  }
 ],
 "metadata": {
  "kernelspec": {
   "display_name": "Python 3 (ipykernel)",
   "language": "python",
   "name": "python3"
  },
  "language_info": {
   "codemirror_mode": {
    "name": "ipython",
    "version": 3
   },
   "file_extension": ".py",
   "mimetype": "text/x-python",
   "name": "python",
   "nbconvert_exporter": "python",
   "pygments_lexer": "ipython3",
   "version": "3.9.7"
  }
 },
 "nbformat": 4,
 "nbformat_minor": 5
}
